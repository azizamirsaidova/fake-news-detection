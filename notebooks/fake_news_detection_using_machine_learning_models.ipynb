{
 "cells": [
  {
   "cell_type": "markdown",
   "metadata": {
    "colab_type": "text",
    "id": "view-in-github"
   },
   "source": [
    "<a href=\"https://colab.research.google.com/github/azizamirsaidova/fake-news-detection/blob/main/notebooks/fake_news_detection_using_machine_learning_models.ipynb\" target=\"_parent\"><img src=\"https://colab.research.google.com/assets/colab-badge.svg\" alt=\"Open In Colab\"/></a>"
   ]
  },
  {
   "cell_type": "markdown",
   "metadata": {},
   "source": [
    "### **Fake & True News Detection Classification Modeling**"
   ]
  },
  {
   "cell_type": "code",
   "execution_count": null,
   "metadata": {
    "colab": {
     "base_uri": "https://localhost:8080/"
    },
    "id": "ZAU--zi7u1Ob",
    "outputId": "f78fc45c-f814-4f2e-9800-4f935d344058"
   },
   "outputs": [
    {
     "name": "stdout",
     "output_type": "stream",
     "text": [
      "Cloning into 'fake-news-detection'...\n",
      "remote: Enumerating objects: 80, done.\u001b[K\n",
      "remote: Counting objects: 100% (80/80), done.\u001b[K\n",
      "remote: Compressing objects: 100% (69/69), done.\u001b[K\n",
      "remote: Total 80 (delta 24), reused 16 (delta 4), pack-reused 0\u001b[K\n",
      "Unpacking objects: 100% (80/80), done.\n"
     ]
    }
   ],
   "source": [
    "!git clone https://github.com/azizamirsaidova/fake-news-detection.git"
   ]
  },
  {
   "cell_type": "code",
   "execution_count": null,
   "metadata": {
    "id": "Qd0fVsa20MUG"
   },
   "outputs": [],
   "source": [
    "import numpy as np\n",
    "import pandas as pd\n",
    "import itertools\n",
    "from sklearn.model_selection import train_test_split\n",
    "from sklearn.feature_extraction.text import TfidfVectorizer, CountVectorizer\n",
    "from sklearn.linear_model import PassiveAggressiveClassifier\n",
    "from sklearn.metrics import accuracy_score, confusion_matrix\n",
    "import tensorflow_hub as hub\n",
    "import tensorflow_text"
   ]
  },
  {
   "cell_type": "code",
   "execution_count": null,
   "metadata": {
    "id": "JB4kD99s0VWL"
   },
   "outputs": [],
   "source": [
    "#Read csv files\n",
    "false = pd.read_csv('/content/false_results.csv')\n",
    "true = pd.read_csv('/content/true_results.csv')"
   ]
  },
  {
   "cell_type": "code",
   "execution_count": null,
   "metadata": {
    "id": "2-xEbH2M1AzS"
   },
   "outputs": [],
   "source": [
    "#Pre-process the data \n",
    "false_replaced = map(lambda x: x.replace(\"'generated_text':\",''), false)\n",
    "false = false['text'].replace(\"'generated_text':\",'', regex=True).to_frame()\n",
    "true = true['text'].replace(\"'generated_text':\",'', regex=True).to_frame()\n",
    "true['label'] = 1\n",
    "false['label'] = 0\n",
    "frames = [true, false]\n",
    "df = pd.concat(frames)"
   ]
  },
  {
   "cell_type": "code",
   "execution_count": null,
   "metadata": {
    "id": "Ck8KhHbR4VDO"
   },
   "outputs": [],
   "source": [
    "#Create train-test split\n",
    "x_train,x_test,y_train,y_test=train_test_split(df['text'], df['label'], test_size=0.2, random_state=8)"
   ]
  },
  {
   "cell_type": "code",
   "execution_count": null,
   "metadata": {
    "id": "QIc9C55b4cNL"
   },
   "outputs": [],
   "source": [
    "#DataFlair - Initialize a TfidfVectorizer\n",
    "tfidf_vectorizer=TfidfVectorizer(stop_words='english', max_df=0.7)\n",
    "\n",
    "#DataFlair - Fit and transform train set, transform test set\n",
    "tfidf_train=tfidf_vectorizer.fit_transform(x_train) \n",
    "tfidf_test=tfidf_vectorizer.transform(x_test)"
   ]
  },
  {
   "cell_type": "code",
   "execution_count": null,
   "metadata": {
    "colab": {
     "base_uri": "https://localhost:8080/"
    },
    "id": "wRuM1mqo4olR",
    "outputId": "7562c597-e405-4478-a432-ac525096e849"
   },
   "outputs": [
    {
     "name": "stdout",
     "output_type": "stream",
     "text": [
      "Accuracy: 59.25%\n"
     ]
    }
   ],
   "source": [
    "#DataFlair - Initialize a PassiveAggressiveClassifier\n",
    "pac=PassiveAggressiveClassifier(max_iter=1000)\n",
    "pac.fit(tfidf_train,y_train)\n",
    "#DataFlair - Predict on the test set and calculate accuracy\n",
    "y_pred=pac.predict(tfidf_test)\n",
    "score=accuracy_score(y_test,y_pred)\n",
    "print(f'Accuracy: {round(score*100,2)}%')"
   ]
  },
  {
   "cell_type": "markdown",
   "metadata": {
    "id": "ck4MLH3_6znS"
   },
   "source": [
    "## **Other Classification Techniques**\n",
    "\n",
    "1. Logistic Regression\n",
    "2. Multinomial Bayesian\n",
    "3. Decision Tree Classifier"
   ]
  },
  {
   "cell_type": "code",
   "execution_count": null,
   "metadata": {
    "id": "lfB4I4658GkJ"
   },
   "outputs": [],
   "source": [
    "x_df = df['text']\n",
    "y_df = df['label']"
   ]
  },
  {
   "cell_type": "code",
   "execution_count": null,
   "metadata": {
    "id": "kyDzzfIS7Dcr"
   },
   "outputs": [],
   "source": [
    "count_vectorizer = CountVectorizer()\n",
    "count_vectorizer.fit_transform(x_df)\n",
    "freq_term_matrix = count_vectorizer.transform(x_df)\n",
    "tfidf = TfidfTransformer(norm = \"l2\")\n",
    "tfidf.fit(freq_term_matrix)\n",
    "tf_idf_matrix = tfidf.fit_transform(freq_term_matrix)"
   ]
  },
  {
   "cell_type": "code",
   "execution_count": null,
   "metadata": {
    "id": "395gDIgV7890"
   },
   "outputs": [],
   "source": [
    "X_train, X_test, Y_train, Y_test = train_test_split(tf_idf_matrix,y_df, random_state=2)"
   ]
  },
  {
   "cell_type": "code",
   "execution_count": null,
   "metadata": {
    "colab": {
     "base_uri": "https://localhost:8080/"
    },
    "id": "YE3hZRSE8cpc",
    "outputId": "60c7bfdf-7582-43fa-eda8-5a36305e4387"
   },
   "outputs": [
    {
     "name": "stdout",
     "output_type": "stream",
     "text": [
      "58.199999999999996\n"
     ]
    }
   ],
   "source": [
    "from sklearn.linear_model import LogisticRegression\n",
    "logreg = LogisticRegression()\n",
    "logreg.fit(X_train, Y_train)\n",
    "Accuracy = logreg.score(X_test, Y_test)\n",
    "print(Accuracy*100)"
   ]
  },
  {
   "cell_type": "code",
   "execution_count": null,
   "metadata": {
    "colab": {
     "base_uri": "https://localhost:8080/"
    },
    "id": "8QyPwvJy8q8i",
    "outputId": "be20a903-9e89-4cf6-89d6-9a4ad4c05744"
   },
   "outputs": [
    {
     "name": "stdout",
     "output_type": "stream",
     "text": [
      "59.199999999999996\n"
     ]
    }
   ],
   "source": [
    "from sklearn.naive_bayes import MultinomialNB\n",
    "NB = MultinomialNB()\n",
    "NB.fit(X_train, Y_train)\n",
    "Accuracy_NB = NB.score(X_test, Y_test)\n",
    "print(Accuracy_NB*100)"
   ]
  },
  {
   "cell_type": "code",
   "execution_count": null,
   "metadata": {
    "colab": {
     "base_uri": "https://localhost:8080/"
    },
    "id": "x9ivddfw81MS",
    "outputId": "99e5dc81-6393-4d08-9a02-348d1d015c33"
   },
   "outputs": [
    {
     "name": "stdout",
     "output_type": "stream",
     "text": [
      "56.39999999999999\n"
     ]
    }
   ],
   "source": [
    "from sklearn.tree import DecisionTreeClassifier\n",
    "clf = DecisionTreeClassifier()\n",
    "clf.fit(X_train, Y_train)\n",
    "Accuracy_DT = clf.score(X_test, Y_test)\n",
    "print(Accuracy_DT*100)"
   ]
  },
  {
   "cell_type": "markdown",
   "metadata": {
    "id": "tgLXxJdn9bvt"
   },
   "source": [
    "## **BERT**"
   ]
  },
  {
   "cell_type": "code",
   "execution_count": null,
   "metadata": {
    "id": "232EfFNR_MFk"
   },
   "outputs": [],
   "source": [
    "!pip install \"tensorflow>=1.7.0\"\n",
    "!pip install tensorflow-hub"
   ]
  },
  {
   "cell_type": "code",
   "execution_count": null,
   "metadata": {
    "id": "lNJyZKV69F_z"
   },
   "outputs": [],
   "source": [
    "#Split data into training and testing dataset \n",
    "title_train, title_test, y_train, y_test = train_test_split(df['text'], df['label'], test_size=0.2,random_state=1000)"
   ]
  },
  {
   "cell_type": "code",
   "execution_count": null,
   "metadata": {
    "id": "uffLNvO39mUo"
   },
   "outputs": [],
   "source": [
    "# Use the bert preprocesser and bert encoder from tensorflow_hub \n",
    "bert_preprocess = hub.KerasLayer(\"https://tfhub.dev/tensorflow/bert_en_uncased_preprocess/3\") \n",
    "bert_encoder = hub.KerasLayer('https://tfhub.dev/tensorflow/bert_en_uncased_L-12_H-768_A-12/4')"
   ]
  },
  {
   "cell_type": "code",
   "execution_count": null,
   "metadata": {
    "colab": {
     "base_uri": "https://localhost:8080/"
    },
    "id": "R91LasA8EeJv",
    "outputId": "9dfc6524-5d70-4bc7-980c-794dc798ad79"
   },
   "outputs": [
    {
     "name": "stdout",
     "output_type": "stream",
     "text": [
      "Epoch 1/5\n",
      "50/50 [==============================] - 757s 15s/step - loss: 0.6977 - accuracy: 0.4919\n",
      "Epoch 2/5\n",
      "50/50 [==============================] - 740s 15s/step - loss: 0.6940 - accuracy: 0.5019\n",
      "Epoch 3/5\n",
      "50/50 [==============================] - 733s 15s/step - loss: 0.6937 - accuracy: 0.4931\n",
      "Epoch 4/5\n",
      "50/50 [==============================] - 736s 15s/step - loss: 0.6933 - accuracy: 0.4988\n",
      "Epoch 5/5\n",
      "50/50 [==============================] - 734s 15s/step - loss: 0.6927 - accuracy: 0.5031\n",
      "13/13 [==============================] - 186s 14s/step - loss: 0.6913 - accuracy: 0.4900\n"
     ]
    },
    {
     "data": {
      "text/plain": [
       "[0.6913196444511414, 0.49000000953674316]"
      ]
     },
     "execution_count": 10,
     "metadata": {},
     "output_type": "execute_result"
    }
   ],
   "source": [
    "import tensorflow as tf\n",
    "\n",
    "# Input Layers\n",
    "input_layer = tf.keras.layers.Input(shape=(), dtype=tf.string, name='news')\n",
    "\n",
    "# BERT layers\n",
    "processed = bert_preprocess(input_layer)\n",
    "output = bert_encoder(processed)\n",
    "\n",
    "# # Fully Connected Layers\n",
    "layer = tf.keras.layers.Dropout(0.2, name='dropout')(output['pooled_output'])\n",
    "layer = tf.keras.layers.Dense(10,activation='relu', name='hidden')(layer)\n",
    "layer = tf.keras.layers.Dense(1,activation='sigmoid', name='output')(layer)\n",
    "\n",
    "\n",
    "model = tf.keras.Model(inputs=[input_layer],outputs=[layer])\n",
    "\n",
    "#Compile model on adam optimizer, binary_crossentropy loss, and accuracy metrics\n",
    "model.compile(optimizer='adam',loss='binary_crossentropy',metrics=['accuracy'])\n",
    "#Train model on 5 epochs\n",
    "model.fit(title_train, y_train, epochs= 5)\n",
    "\n",
    "#Evaluate model on test data\n",
    "model.evaluate(title_test,y_test)"
   ]
  }
 ],
 "metadata": {
  "colab": {
   "authorship_tag": "ABX9TyPTvzvEDMbqMW3a2+kEvtdY",
   "include_colab_link": true,
   "name": "fake_news_detection_using_machine_learning_models",
   "provenance": []
  },
  "kernelspec": {
   "display_name": "Python 3 (ipykernel)",
   "language": "python",
   "name": "python3"
  },
  "language_info": {
   "codemirror_mode": {
    "name": "ipython",
    "version": 3
   },
   "file_extension": ".py",
   "mimetype": "text/x-python",
   "name": "python",
   "nbconvert_exporter": "python",
   "pygments_lexer": "ipython3",
   "version": "3.8.8"
  }
 },
 "nbformat": 4,
 "nbformat_minor": 4
}
